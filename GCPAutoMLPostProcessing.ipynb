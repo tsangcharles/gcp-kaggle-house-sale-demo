{
 "cells": [
  {
   "cell_type": "code",
   "execution_count": 1,
   "metadata": {},
   "outputs": [],
   "source": [
    "import pandas as pd"
   ]
  },
  {
   "cell_type": "code",
   "execution_count": 2,
   "metadata": {},
   "outputs": [],
   "source": [
    "pred_df = pd.read_csv('./dataset/rawcloudpredictions/prediction-kaggle_houseprice_20190504124240-2019-05-04T18_25_37.486Z_tables_1.csv')\n",
    "error_df = pd.read_csv('./dataset/rawcloudpredictions/prediction-kaggle_houseprice_20190504124240-2019-05-04T18_25_37.486Z_errors_1.csv')"
   ]
  },
  {
   "cell_type": "markdown",
   "metadata": {},
   "source": [
    "### Filling the error predictions with average prediction"
   ]
  },
  {
   "cell_type": "code",
   "execution_count": 3,
   "metadata": {},
   "outputs": [],
   "source": [
    "error_df['predicted_SalePrice'] = pred_df['predicted_SalePrice'].mean()"
   ]
  },
  {
   "cell_type": "markdown",
   "metadata": {},
   "source": [
    "### Concatenate and prepare submission"
   ]
  },
  {
   "cell_type": "code",
   "execution_count": 7,
   "metadata": {},
   "outputs": [],
   "source": [
    "df = pred_df[['Id','predicted_SalePrice']].append(error_df[['Id','predicted_SalePrice']]).sort_values(['Id']).reset_index(drop = True)\n",
    "df.rename(columns={'predicted_SalePrice':'SalePrice'}, inplace=True)"
   ]
  },
  {
   "cell_type": "code",
   "execution_count": 11,
   "metadata": {},
   "outputs": [],
   "source": [
    "df.to_csv('./dataset/submissions/submission-gcpautoml.csv',index=False)"
   ]
  }
 ],
 "metadata": {
  "kernelspec": {
   "display_name": "Python 3",
   "language": "python",
   "name": "python3"
  },
  "language_info": {
   "codemirror_mode": {
    "name": "ipython",
    "version": 3
   },
   "file_extension": ".py",
   "mimetype": "text/x-python",
   "name": "python",
   "nbconvert_exporter": "python",
   "pygments_lexer": "ipython3",
   "version": "3.7.1"
  }
 },
 "nbformat": 4,
 "nbformat_minor": 2
}
